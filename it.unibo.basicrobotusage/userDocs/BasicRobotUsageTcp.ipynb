{
 "cells": [
  {
   "cell_type": "markdown",
   "metadata": {
    "slideshow": {
     "slide_type": "subslide"
    }
   },
   "source": [
    "# BasicRobotUsage  \n",
    "See the project it.unibo.basicrobotusage<br/>\n",
    "This is an example of an external component (an 'alien') that sends move commands \n",
    "to the basicrobot on port 8018, via TCP"
   ]
  },
  {
   "cell_type": "markdown",
   "metadata": {},
   "source": [
    "## Using the basic robot via TCP"
   ]
  },
  {
   "cell_type": "code",
   "execution_count": null,
   "metadata": {},
   "outputs": [
    {
     "name": "stdout",
     "output_type": "stream",
     "text": [
      "STARTING ... \n",
      "CONNECTED WITH  ('localhost', 8018)\n",
      "console  STARTS :\n",
      "w\n",
      "console  cmd= : w\n",
      "emit  msg(userCmd,event,python,none,userCmd(w),1)\n",
      "h\n",
      "emit  msg(userCmd,event,python,none,userCmd(h),1)\n"
     ]
    }
   ],
   "source": [
    "##############################################################\n",
    "# forward       : sends a command in output\n",
    "# read          : acquires data from input\n",
    "##############################################################\n",
    "import socket\n",
    "import time\n",
    " \n",
    "robotName      = \"basicrobot\"  \n",
    "hostAdress     = 'localhost'\n",
    "basicRobotPort = 8018  \n",
    "\n",
    "msgTemplate   = \"msg(cmd,dispatch,python,\"+ robotName +\",cmd(CMDVAL),1)\"\n",
    "eventTemplate = \"msg(userCmd,event,python,none,userCmd(CMDVAL),1)\"\n",
    "sock          = socket.socket(socket.AF_INET, socket.SOCK_STREAM)\n",
    "\n",
    "def connect(port) :\n",
    "    server_address = (hostAdress, port)\n",
    "    sock.connect(server_address)    \n",
    "    print(\"CONNECTED WITH \", server_address)\n",
    "\n",
    "def terminate() :\n",
    "    sock.close()    #qak infrastr receives a msg null\n",
    "    print(\"BYE\")\n",
    "\n",
    "def read() :\n",
    "    BUFFER_SIZE = 1024\n",
    "    data = sock.recv(BUFFER_SIZE)\n",
    "    print( \"received data:\", data )\n",
    "\n",
    "def forward( cmd ) :\n",
    "    message = msgTemplate.replace(\"CMDVAL\", cmd)\n",
    "    print(\"forward \", message)\n",
    "    msg = message + \"\\n\"\n",
    "    byt=msg.encode()    #required in Python3\n",
    "    sock.send(byt)\n",
    "\n",
    "def emit( cmd ) :\n",
    "    message = eventTemplate.replace(\"CMDVAL\", cmd)\n",
    "    print(\"emit \", message)\n",
    "    msg = message + \"\\n\"\n",
    "    byt=msg.encode()    #required in Python3\n",
    "    sock.send(byt)\n",
    "    \n",
    "def console() :  \n",
    "    print(\"console  STARTS :\"   )\n",
    "    cmd =  str( input() )\n",
    "    print(\"console  cmd= :\" , cmd  )\n",
    "    while( cmd != \"q\"  ) :\n",
    "        #forward( cmd )\n",
    "        emit( cmd )\n",
    "        #read()                  #WARNING: blocking ...\n",
    "        cmd =  str(input())\n",
    "\n",
    "##################################################\n",
    "print(\"STARTING ... \")\n",
    "connect(basicRobotPort)\n",
    "sock.settimeout(60000)\n",
    "console() \n",
    "terminate()"
   ]
  },
  {
   "cell_type": "markdown",
   "metadata": {},
   "source": [
    "## Using the virtual robot via TCP"
   ]
  },
  {
   "cell_type": "code",
   "execution_count": null,
   "metadata": {},
   "outputs": [],
   "source": [
    "##############################################################\n",
    "# clientToWenv.py\n",
    "# sendToVirtualRobot : sends a command in output\n",
    "# read               : acquires data from input\n",
    "##############################################################\n",
    "import socket\n",
    "import time\n",
    "import json\n",
    "\n",
    "sock             = socket.socket(socket.AF_INET, socket.SOCK_STREAM)\n",
    "virtualRobotPort = 8999\n",
    "sep = ';'   #required by the Soffritti virtual robot 'language'\n",
    "\n",
    "wMsg   = '{\"type\": \"moveForward\",   \"arg\": -1  }'\n",
    "sMsg   = '{\"type\": \"moveBackward\",  \"arg\": -1  }'\n",
    "dMsg   = '{\"type\": \"turnLeft\",      \"arg\": 400 }'\n",
    "aMsg   = '{\"type\": \"turnRight\",     \"arg\": 400 }'\n",
    "hMsg   = '{\"type\": \"alarm\",         \"arg\": 0   }'\n",
    "\n",
    "#Python does not have a switch or case statement:use dictionary mapping\n",
    "def buildMsg( move ) :    \n",
    "    switcher = { \n",
    "        \"w\": wMsg,   \n",
    "        \"s\": sMsg,\n",
    "        \"a\": aMsg,\n",
    "        \"d\": dMsg,\n",
    "        \"h\": hMsg,         \n",
    "    }\n",
    "    return switcher.get(move, hMsg)\n",
    "\n",
    "def connect(port) :\n",
    "    server_address = ('localhost', port)\n",
    "    sock.connect(server_address)    \n",
    "    print(\"CONNECTED WITH the virtual robot\" , server_address)\n",
    "\n",
    "def sendToVirtualRobot( message ) :\n",
    "    print(\"sendToVirtualRobot \", message)\n",
    "    msgJson = json.loads( message )\n",
    "    msg     = sep+ json.dumps(msgJson)+ sep \n",
    "    byt=msg.encode()    #required in Python3\n",
    "    sock.send( byt )\n",
    "\n",
    "def read() :\n",
    "    BUFFER_SIZE = 1024\n",
    "    data = sock.recv(BUFFER_SIZE)\n",
    "    print( \"received data:\", data )\n",
    "\n",
    "def terminate() :\n",
    "    sock.close()\n",
    "    print(\"BYE\")\n",
    "\n",
    "def console() :  \n",
    "    print(\"console  STARTS :\"   )\n",
    "    cmd =  str( input() )\n",
    "    print(\"console  cmd= :\" , cmd  )   # w,s,a,d,r,l,z,x\n",
    "    while( cmd != \"q\"  ) :\n",
    "        msg = buildMsg(cmd)  \n",
    "        print( msg )\n",
    "        sendToVirtualRobot( msg )\n",
    "        #read() #blocking ...\n",
    "        cmd = str(input() )\n",
    "    \n",
    "###########################################    \n",
    "connect( virtualRobotPort )\n",
    "console()\n",
    "#terminate()"
   ]
  },
  {
   "cell_type": "code",
   "execution_count": null,
   "metadata": {},
   "outputs": [],
   "source": []
  }
 ],
 "metadata": {
  "kernelspec": {
   "display_name": "Python 3",
   "language": "python",
   "name": "python3"
  },
  "language_info": {
   "codemirror_mode": {
    "name": "ipython",
    "version": 3
   },
   "file_extension": ".py",
   "mimetype": "text/x-python",
   "name": "python",
   "nbconvert_exporter": "python",
   "pygments_lexer": "ipython3",
   "version": "3.7.3"
  }
 },
 "nbformat": 4,
 "nbformat_minor": 2
}
