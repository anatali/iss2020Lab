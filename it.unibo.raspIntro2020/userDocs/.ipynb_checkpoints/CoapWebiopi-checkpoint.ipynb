{
 "cells": [
  {
   "cell_type": "markdown",
   "metadata": {
    "slideshow": {
     "slide_type": "subslide"
    }
   },
   "source": [
    "# Using Webiopi via Coap \n",
    "See the project it.unibo.raspintro2020"
   ]
  },
  {
   "cell_type": "code",
   "execution_count": null,
   "metadata": {},
   "outputs": [],
   "source": []
  },
  {
   "cell_type": "code",
   "execution_count": null,
   "metadata": {},
   "outputs": [],
   "source": [
    "##############################################################\n",
    "#  The modules protocls and utils are in the current directory\n",
    "##############################################################\n",
    "from protocols.coap import *\n",
    "from time import sleep\n",
    "\n",
    "client = COAPClient()\n",
    "\n",
    "def moveRobot( move ):\n",
    "    response = client.sendRequest(COAPPost(\"coap://192.168.1.8/macros/do_\"+move))\n",
    "    if response:\n",
    "        print(\"POST | Received response:\\n%s\" % response)\n",
    "\n",
    "def blinckLed():\n",
    "    client.sendRequest(COAPPost(\"coap://192.168.1.8/GPIO/17/function/out\"))\n",
    "    state = True\n",
    "    for x in range(0, 6): \n",
    "        response = client.sendRequest(COAPPost(\"coap://192.168.1.8/GPIO/17/value/%d\" % state))\n",
    "        if response:\n",
    "            print(\"POST | Received response:\\n%s\" % response)\n",
    "            state = not state\n",
    "        else:\n",
    "            print(\"No response received\")\n",
    "        response = client.sendRequest(COAPGet(\"coap://192.168.1.8/GPIO/17/value\" ))\n",
    "        if response:\n",
    "            print(\"GET | Received response: %s\" %  response.payload.decode(\"utf-8\") )\n",
    "        else:\n",
    "            print(\"No response received\")\n",
    "        sleep(1.0)\n",
    "\n",
    "def console() :  \n",
    "    print(\"console  STARTS :\"   )\n",
    "    cmd =  str( input() )\n",
    "    print(\"console  cmd= :\" , cmd  )   # w,s,a,d,r,l,z,x\n",
    "    while( cmd != \"q\"  ) :\n",
    "        print( cmd )\n",
    "        moveRobot( cmd )\n",
    "        #read() #blocking ...\n",
    "        cmd = str(input() )\n",
    "        \n",
    "#moveRobot('r')   \n",
    "#blinckLed()\n",
    "console()"
   ]
  },
  {
   "cell_type": "code",
   "execution_count": null,
   "metadata": {},
   "outputs": [],
   "source": []
  },
  {
   "cell_type": "code",
   "execution_count": null,
   "metadata": {},
   "outputs": [],
   "source": []
  }
 ],
 "metadata": {
  "kernelspec": {
   "display_name": "Python 3",
   "language": "python",
   "name": "python3"
  },
  "language_info": {
   "codemirror_mode": {
    "name": "ipython",
    "version": 3
   },
   "file_extension": ".py",
   "mimetype": "text/x-python",
   "name": "python",
   "nbconvert_exporter": "python",
   "pygments_lexer": "ipython3",
   "version": "3.7.3"
  }
 },
 "nbformat": 4,
 "nbformat_minor": 2
}
